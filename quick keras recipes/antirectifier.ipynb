{
 "cells": [
  {
   "cell_type": "markdown",
   "source": [
    "Antirectifier"
   ],
   "metadata": {}
  },
  {
   "cell_type": "markdown",
   "source": [
    "An alternative to ReLU. Instead of zeroing-out the negative part of the input, it splits the negative and positive parts and returns the concatenation of the absolute value of both. This avoids loss of information, at the cost of an increase in dimensionality. To fix the dimensionality increase, we linearly combine the features back to a space of the original size."
   ],
   "metadata": {}
  },
  {
   "cell_type": "code",
   "execution_count": null,
   "source": [
    "import tensorflow as tf\r\n",
    "from tensorflow import keras\r\n",
    "from tensorflow.keras import layers"
   ],
   "outputs": [],
   "metadata": {}
  },
  {
   "cell_type": "markdown",
   "source": [
    " The Antirectifier layer"
   ],
   "metadata": {}
  },
  {
   "cell_type": "code",
   "execution_count": null,
   "source": [
    "class Antirectifier(layers.Layer):\r\n",
    "    def __init__(self, initializer='he_normal', **kwargs):\r\n",
    "        super(Antirectifier, self).__init__(**kwargs)\r\n",
    "        self.initializer = keras.initializers.get(initializer)\r\n",
    "    \r\n",
    "    def build(self, input_shape):\r\n",
    "        outout_dim = input_shape[-1]\r\n",
    "        self.kernel = self.add_weight(\r\n",
    "            shape=(outout_dim * 2, outout_dim),\r\n",
    "            initializer=self.initializer,\r\n",
    "            name='kernel',\r\n",
    "            trainable=True\r\n",
    "        )\r\n",
    "    \r\n",
    "    def call(self, inputs):\r\n",
    "        inputs -= tf.reduce_mean(inputs, axis=-1, keepdims=True)\r\n",
    "        pos = tf.nn.relu(inputs)\r\n",
    "        neg = tf.nn.relu(-inputs)\r\n",
    "        concatenated = tf.concat([pos, neg], axis=-1)\r\n",
    "        mixed = tf.matmul(concatenated, self.kernel)\r\n",
    "        return mixed\r\n",
    "    \r\n",
    "    def get_config(self):\r\n",
    "        # Implement get_config to enable serialization. This is optional\r\n",
    "        base_config = super(Antirectifier, self).get_config()\r\n",
    "        config      = {\"initializer\": keras.initializers.serialize(self.initializer)}\r\n",
    "        return dict(list(base_config.items()) + list(config.items()))"
   ],
   "outputs": [],
   "metadata": {}
  },
  {
   "cell_type": "markdown",
   "source": [
    "Test-drive it on MNIST"
   ],
   "metadata": {}
  },
  {
   "cell_type": "code",
   "execution_count": null,
   "source": [
    "# Training parameters\r\n",
    "batch_size = 128\r\n",
    "num_classes = 10\r\n",
    "epochs = 20\r\n",
    "\r\n",
    "# The data, split between train and test sets\r\n",
    "(x_train, y_train), (x_test, y_test) = keras.datasets.mnist.load_data()\r\n",
    "\r\n",
    "x_train = x_train.reshape(-1, 784)\r\n",
    "x_test = x_test.reshape(-1, 784)\r\n",
    "x_train = x_train.astype(\"float32\")\r\n",
    "x_test = x_test.astype(\"float32\")\r\n",
    "x_train /= 255\r\n",
    "x_test /= 255\r\n",
    "print(x_train.shape[0], \"train samples\")\r\n",
    "print(x_test.shape[0], \"test samples\")\r\n",
    "\r\n",
    "# Build the model\r\n",
    "model = keras.Sequential(\r\n",
    "    [\r\n",
    "        keras.Input(shape=(784,)),\r\n",
    "        layers.Dense(256),\r\n",
    "        Antirectifier(),\r\n",
    "        layers.Dense(256),\r\n",
    "        Antirectifier(),\r\n",
    "        layers.Dropout(0.5),\r\n",
    "        layers.Dense(10),\r\n",
    "    ]\r\n",
    ")\r\n",
    "\r\n",
    "# Compile the model\r\n",
    "model.compile(\r\n",
    "    loss = keras.losses.SparseCategoricalCrossentropy(from_logits=True),\r\n",
    "    optimizer=keras.optimizers.RMSprop(),\r\n",
    "    metrics=[keras.metrics.SparseCategoricalAccuracy()],\r\n",
    ")\r\n",
    "\r\n",
    "# Train the model\r\n",
    "model.fit(x_train, y_train, batch_size=batch_size, epochs=epochs, validation_split=0.15)\r\n",
    "\r\n",
    "# Test the model\r\n",
    "model.evaluate(x_test, y_test)"
   ],
   "outputs": [],
   "metadata": {}
  }
 ],
 "metadata": {
  "orig_nbformat": 4,
  "language_info": {
   "name": "python"
  }
 },
 "nbformat": 4,
 "nbformat_minor": 2
}